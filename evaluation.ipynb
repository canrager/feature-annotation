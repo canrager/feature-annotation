{
 "cells": [
  {
   "cell_type": "code",
   "execution_count": null,
   "metadata": {},
   "outputs": [],
   "source": [
    "import streamlit as st\n",
    "import pandas as pd\n",
    "from collections import defaultdict\n",
    "from google.cloud import firestore\n",
    "from google.oauth2 import service_account\n",
    "import plotly.express as px\n",
    "import matplotlib.pyplot as plt"
   ]
  },
  {
   "cell_type": "code",
   "execution_count": null,
   "metadata": {},
   "outputs": [],
   "source": [
    "# Connection to firebase\n",
    "fb_credentials = st.secrets[\"firebase\"]\n",
    "creds = service_account.Credentials.from_service_account_info(fb_credentials)\n",
    "db = firestore.Client(credentials=creds, project=\"feature-annotation\")"
   ]
  },
  {
   "cell_type": "code",
   "execution_count": null,
   "metadata": {},
   "outputs": [],
   "source": [
    "# Annotation counter \n",
    "stats = db.collection(\"stats\").stream()\n",
    "cnt_dict = defaultdict(list)\n",
    "for stat in stats:\n",
    "    cnt = stat.to_dict()[\"annotation_count\"]\n",
    "    cnt_dict[cnt].append(stat.id)\n",
    "\n",
    "for k, v in cnt_dict.items():\n",
    "    print(f'{k} annotations: {len(v)} samples')"
   ]
  },
  {
   "cell_type": "code",
   "execution_count": null,
   "metadata": {},
   "outputs": [],
   "source": [
    "# Load annotations and preprocess\n",
    "annotations = db.collection(\"annotations\").stream()\n",
    "df = pd.DataFrame([a.to_dict() for a in annotations])\n",
    "\n",
    "df['user_timestamp'] = pd.to_datetime(df['user_timestamp'], unit='s')\n",
    "df = df.replace('Please', pd.NA)\n",
    "\n",
    "df.head()"
   ]
  },
  {
   "cell_type": "code",
   "execution_count": null,
   "metadata": {},
   "outputs": [],
   "source": [
    "df.user_interp.isna().sum()"
   ]
  },
  {
   "cell_type": "code",
   "execution_count": null,
   "metadata": {},
   "outputs": [],
   "source": [
    "# Table of mean user_interp score by component_set_name\n",
    "print(f'Dropping {df.user_interp.isna().sum()} rows with missing user_interp')\n",
    "df_interp = df.dropna(subset=['user_interp'])\n",
    "df_interp['user_interp'] = df_interp['user_interp'].astype(float)\n",
    "df_interp.groupby('component_set_name')['user_interp'].mean().sort_values(ascending=False).plot(kind='bar', ylabel=\"Mean interpretability score in %\", title=\"Mean interpretability score by component_set_name\")"
   ]
  },
  {
   "cell_type": "code",
   "execution_count": null,
   "metadata": {},
   "outputs": [],
   "source": [
    "for i in df_interp['component_set_name'].unique():\n",
    "    print(f'Component set: {i}')\n",
    "    dfg = df_interp[df_interp['component_set_name'] == i]\n",
    "    print(dfg['user_interp'].mean())\n",
    "    print(dfg['user_interp'].std())\n",
    "    dfg.groupby('user_interp')['user_interp'].count().plot(kind='bar', ylabel=\"Count\", title=f\"Interpretability score distribution for {i}\")\n",
    "    plt.show()\n"
   ]
  },
  {
   "cell_type": "code",
   "execution_count": null,
   "metadata": {},
   "outputs": [],
   "source": [
    "df_interp.groupby('component_set_name')['user_interp'].std().sort_values(ascending=False)"
   ]
  },
  {
   "cell_type": "markdown",
   "metadata": {},
   "source": [
    "### User annotation times"
   ]
  },
  {
   "cell_type": "code",
   "execution_count": null,
   "metadata": {},
   "outputs": [],
   "source": [
    "# Check timestamps by user\n",
    "df.user_name.value_counts()"
   ]
  },
  {
   "cell_type": "code",
   "execution_count": null,
   "metadata": {},
   "outputs": [],
   "source": [
    "user = \"Can\"\n",
    "fig = df[df.user_name == user].user_timestamp.hist(bins=50, xlabelsize=10, ylabelsize=10, figsize=(10,5))\n",
    "fig.set_title(f\"{user}'s annotation timestamps\")\n",
    "# df[df.user_name == \"cocolugoj\"].user_timestamp.dt.hour.hist(bins=50, xlabelsize=10, ylabelsize=10, figsize=(10,5))"
   ]
  },
  {
   "cell_type": "markdown",
   "metadata": {},
   "source": [
    "### Inter- annotator agreement"
   ]
  },
  {
   "cell_type": "code",
   "execution_count": null,
   "metadata": {},
   "outputs": [],
   "source": [
    "cnt_dict_rev = defaultdict(list)\n",
    "for k in cnt_dict.keys():\n",
    "    for v in cnt_dict[k]:\n",
    "        cnt_dict_rev[v].append(k)\n",
    "df['sample_cnt'] = [cnt_dict_rev[sample_id][0] for sample_id in df.sample_id]"
   ]
  },
  {
   "cell_type": "code",
   "execution_count": null,
   "metadata": {},
   "outputs": [],
   "source": [
    "# Calculate the Inter-annotator agreement using pearson correlation for all components which were labeled twice and for each component_set_name separately\n",
    "df = df.dropna(subset=['user_interp'])\n",
    "df['user_interp'] = df['user_interp'].astype(float)\n",
    "df['sample_id'] = df['sample_id'].astype(float)\n",
    "df = df[df.sample_cnt == 2]\n",
    "print(f'Pearson correlation of components labeled twice per component set\\n')\n",
    "for comp in sorted(df['component_set_name'].unique()):\n",
    "    dfg = df[df[\"component_set_name\"] == comp]\n",
    "    dfg = dfg.sort_values(by=['sample_id'])\n",
    "    annotations1 = dfg.iloc[::2].reset_index(drop=True)\n",
    "    annotations2 = dfg.iloc[1::2].reset_index(drop=True)\n",
    "    print(f'{comp}:\\tr = {annotations1.user_interp.corr(annotations2.user_interp):.2f}  (n={len(annotations1)})')\n"
   ]
  },
  {
   "cell_type": "code",
   "execution_count": null,
   "metadata": {},
   "outputs": [],
   "source": [
    "df[df.user_name == \"cocolugoj\"][df.component_set_name == \"sparse_RC\"]"
   ]
  },
  {
   "cell_type": "code",
   "execution_count": null,
   "metadata": {},
   "outputs": [],
   "source": []
  }
 ],
 "metadata": {
  "kernelspec": {
   "display_name": "feature-annotation-env",
   "language": "python",
   "name": "python3"
  },
  "language_info": {
   "codemirror_mode": {
    "name": "ipython",
    "version": 3
   },
   "file_extension": ".py",
   "mimetype": "text/x-python",
   "name": "python",
   "nbconvert_exporter": "python",
   "pygments_lexer": "ipython3",
   "version": "3.10.0"
  }
 },
 "nbformat": 4,
 "nbformat_minor": 2
}

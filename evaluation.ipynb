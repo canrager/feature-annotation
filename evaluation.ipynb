{
 "cells": [
  {
   "cell_type": "code",
   "execution_count": null,
   "metadata": {},
   "outputs": [],
   "source": [
    "import streamlit as st\n",
    "import pandas as pd\n",
    "from collections import defaultdict\n",
    "from google.cloud import firestore\n",
    "from google.oauth2 import service_account\n",
    "import plotly.express as px"
   ]
  },
  {
   "cell_type": "code",
   "execution_count": null,
   "metadata": {},
   "outputs": [],
   "source": [
    "# Connection to firebase\n",
    "fb_credentials = st.secrets[\"firebase\"]\n",
    "creds = service_account.Credentials.from_service_account_info(fb_credentials)\n",
    "db = firestore.Client(credentials=creds, project=\"feature-annotation\")"
   ]
  },
  {
   "cell_type": "code",
   "execution_count": null,
   "metadata": {},
   "outputs": [],
   "source": [
    "# Annotation counter \n",
    "stats = db.collection(\"stats\").stream()\n",
    "cnt_dict = defaultdict(list)\n",
    "for stat in stats:\n",
    "    cnt = stat.to_dict()[\"annotation_count\"]\n",
    "    cnt_dict[cnt].append(stat.id)\n",
    "\n",
    "for k, v in cnt_dict.items():\n",
    "    print(f'{k} annotations: {len(v)} samples')"
   ]
  },
  {
   "cell_type": "code",
   "execution_count": null,
   "metadata": {},
   "outputs": [],
   "source": [
    "# Load annotations and preprocess\n",
    "annotations = db.collection(\"annotations\").stream()\n",
    "df = pd.DataFrame([a.to_dict() for a in annotations])\n",
    "\n",
    "df['user_timestamp'] = pd.to_datetime(df['user_timestamp'], unit='s')\n",
    "df = df.replace('Please', pd.NA)\n",
    "\n",
    "df.head()"
   ]
  },
  {
   "cell_type": "code",
   "execution_count": null,
   "metadata": {},
   "outputs": [],
   "source": [
    "df.user_interp.isna().sum()"
   ]
  },
  {
   "cell_type": "code",
   "execution_count": null,
   "metadata": {},
   "outputs": [],
   "source": [
    "# Table of mean user_interp score by component_set_name\n",
    "print(f'Dropping {df.user_interp.isna().sum()} rows with missing user_interp')\n",
    "df_interp = df.dropna(subset=['user_interp'])\n",
    "df_interp['user_interp'] = df_interp['user_interp'].astype(float)\n",
    "dd = df_interp.groupby('component_set_name')['user_interp'].mean().sort_values(ascending=False)\n",
    "df_interp.groupby('component_set_name')['user_interp'].mean().sort_values(ascending=False).plot(kind='bar', ylabel=\"Mean interpretability score in %\", title=\"Mean interpretability score by component_set_name\")"
   ]
  },
  {
   "cell_type": "code",
   "execution_count": null,
   "metadata": {},
   "outputs": [],
   "source": [
    "# Check timestamps by user\n",
    "df.user_name.value_counts()"
   ]
  },
  {
   "cell_type": "code",
   "execution_count": null,
   "metadata": {},
   "outputs": [],
   "source": [
    "user = \"Can\"\n",
    "fig = df[df.user_name == user].user_timestamp.hist(bins=50, xlabelsize=10, ylabelsize=10, figsize=(10,5))\n",
    "fig.set_title(f\"{user}'s annotation timestamps\")\n",
    "# df[df.user_name == \"cocolugoj\"].user_timestamp.dt.hour.hist(bins=50, xlabelsize=10, ylabelsize=10, figsize=(10,5))"
   ]
  }
 ],
 "metadata": {
  "kernelspec": {
   "display_name": "feature-annotation-env",
   "language": "python",
   "name": "python3"
  },
  "language_info": {
   "codemirror_mode": {
    "name": "ipython",
    "version": 3
   },
   "file_extension": ".py",
   "mimetype": "text/x-python",
   "name": "python",
   "nbconvert_exporter": "python",
   "pygments_lexer": "ipython3",
   "version": "3.10.0"
  }
 },
 "nbformat": 4,
 "nbformat_minor": 2
}
